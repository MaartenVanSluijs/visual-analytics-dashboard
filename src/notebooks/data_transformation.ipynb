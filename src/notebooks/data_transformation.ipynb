{
 "cells": [
  {
   "attachments": {},
   "cell_type": "markdown",
   "metadata": {},
   "source": [
    "# transform the data so it fits with a flowing heatmap over time"
   ]
  },
  {
   "cell_type": "code",
   "execution_count": 46,
   "metadata": {},
   "outputs": [],
   "source": [
    "import pandas as pd\n"
   ]
  },
  {
   "cell_type": "code",
   "execution_count": 47,
   "metadata": {},
   "outputs": [],
   "source": [
    "df_data = pd.read_csv(\"..\\..\\data\\MC1\\SensorData_processed.csv\")"
   ]
  },
  {
   "cell_type": "code",
   "execution_count": 48,
   "metadata": {},
   "outputs": [],
   "source": [
    "# order the data by car id\n",
    "df_data[\"Timestamp\"] = pd.to_datetime(df_data[\"Timestamp\"])\n",
    "df_tranformed = df_data.copy()\n",
    "df_tranformed = df_tranformed.sort_values(by=[\"Timestamp\"])\n"
   ]
  },
  {
   "cell_type": "code",
   "execution_count": 49,
   "metadata": {},
   "outputs": [],
   "source": [
    "# get all the months + year combinations\n",
    "df_tranformed[\"month\"] = df_tranformed[\"Timestamp\"].dt.month\n",
    "df_tranformed[\"year\"] = df_tranformed[\"Timestamp\"].dt.year\n",
    "df_tranformed[\"month-year\"] = df_tranformed[\"month\"].astype(str) + \"-\" + df_tranformed[\"year\"].astype(str)\n",
    "df_tranformed[\"month-year\"] = pd.to_datetime(df_tranformed[\"month-year\"], format=\"%m-%Y\")\n",
    "df_tranformed[\"month-year\"] = df_tranformed[\"month-year\"].dt.strftime(\"%b-%Y\")\n"
   ]
  },
  {
   "cell_type": "code",
   "execution_count": 50,
   "metadata": {},
   "outputs": [],
   "source": [
    "month_years = df_tranformed['month-year'].unique()"
   ]
  },
  {
   "cell_type": "code",
   "execution_count": 51,
   "metadata": {},
   "outputs": [
    {
     "data": {
      "text/plain": [
       "array(['May-2015', 'Jun-2015', 'Jul-2015', 'Aug-2015', 'Sep-2015',\n",
       "       'Oct-2015', 'Nov-2015', 'Dec-2015', 'Jan-2016', 'Feb-2016',\n",
       "       'Mar-2016', 'Apr-2016', 'May-2016'], dtype=object)"
      ]
     },
     "execution_count": 51,
     "metadata": {},
     "output_type": "execute_result"
    }
   ],
   "source": [
    "month_years"
   ]
  },
  {
   "cell_type": "code",
   "execution_count": 58,
   "metadata": {},
   "outputs": [],
   "source": [
    "# get all the day-month-year combinations\n",
    "df_tranformed[\"day\"] = df_tranformed[\"Timestamp\"].dt.day\n",
    "df_tranformed[\"day-month-year\"] = df_tranformed[\"day\"].astype(str) + \"-\" + df_tranformed[\"month\"].astype(str) + \"-\" + df_tranformed[\"year\"].astype(str)\n",
    "df_tranformed[\"day-month-year\"] = pd.to_datetime(df_tranformed[\"day-month-year\"], format=\"%d-%m-%Y\")\n",
    "df_tranformed[\"day-month-year\"] = df_tranformed[\"day-month-year\"].dt.strftime(\"%d-%b-%Y\")\n"
   ]
  },
  {
   "cell_type": "code",
   "execution_count": 59,
   "metadata": {},
   "outputs": [
    {
     "data": {
      "text/plain": [
       "array(['01-May-2015', '02-May-2015', '03-May-2015', '04-May-2015',\n",
       "       '05-May-2015', '06-May-2015', '07-May-2015', '08-May-2015',\n",
       "       '09-May-2015', '10-May-2015', '11-May-2015', '12-May-2015',\n",
       "       '13-May-2015', '14-May-2015', '15-May-2015', '16-May-2015',\n",
       "       '17-May-2015', '18-May-2015', '19-May-2015', '20-May-2015',\n",
       "       '21-May-2015', '22-May-2015', '23-May-2015', '24-May-2015',\n",
       "       '25-May-2015', '26-May-2015', '27-May-2015', '28-May-2015',\n",
       "       '29-May-2015', '30-May-2015', '31-May-2015', '01-Jun-2015',\n",
       "       '02-Jun-2015', '03-Jun-2015', '04-Jun-2015', '05-Jun-2015',\n",
       "       '06-Jun-2015', '07-Jun-2015', '08-Jun-2015', '09-Jun-2015',\n",
       "       '10-Jun-2015', '11-Jun-2015', '12-Jun-2015', '13-Jun-2015',\n",
       "       '14-Jun-2015', '15-Jun-2015', '16-Jun-2015', '17-Jun-2015',\n",
       "       '18-Jun-2015', '19-Jun-2015', '20-Jun-2015', '21-Jun-2015',\n",
       "       '22-Jun-2015', '23-Jun-2015', '24-Jun-2015', '25-Jun-2015',\n",
       "       '26-Jun-2015', '27-Jun-2015', '28-Jun-2015', '29-Jun-2015',\n",
       "       '30-Jun-2015', '01-Jul-2015', '02-Jul-2015', '03-Jul-2015',\n",
       "       '04-Jul-2015', '05-Jul-2015', '06-Jul-2015', '07-Jul-2015',\n",
       "       '08-Jul-2015', '09-Jul-2015', '10-Jul-2015', '11-Jul-2015',\n",
       "       '12-Jul-2015', '13-Jul-2015', '14-Jul-2015', '15-Jul-2015',\n",
       "       '16-Jul-2015', '17-Jul-2015', '18-Jul-2015', '19-Jul-2015',\n",
       "       '20-Jul-2015', '21-Jul-2015', '22-Jul-2015', '23-Jul-2015',\n",
       "       '24-Jul-2015', '25-Jul-2015', '26-Jul-2015', '27-Jul-2015',\n",
       "       '28-Jul-2015', '29-Jul-2015', '30-Jul-2015', '31-Jul-2015',\n",
       "       '01-Aug-2015', '02-Aug-2015', '03-Aug-2015', '04-Aug-2015',\n",
       "       '05-Aug-2015', '06-Aug-2015', '07-Aug-2015', '08-Aug-2015',\n",
       "       '09-Aug-2015', '10-Aug-2015', '11-Aug-2015', '12-Aug-2015',\n",
       "       '13-Aug-2015', '14-Aug-2015', '15-Aug-2015', '16-Aug-2015',\n",
       "       '17-Aug-2015', '18-Aug-2015', '19-Aug-2015', '20-Aug-2015',\n",
       "       '21-Aug-2015', '22-Aug-2015', '23-Aug-2015', '24-Aug-2015',\n",
       "       '25-Aug-2015', '26-Aug-2015', '27-Aug-2015', '28-Aug-2015',\n",
       "       '29-Aug-2015', '30-Aug-2015', '31-Aug-2015', '01-Sep-2015',\n",
       "       '02-Sep-2015', '03-Sep-2015', '04-Sep-2015', '05-Sep-2015',\n",
       "       '06-Sep-2015', '07-Sep-2015', '08-Sep-2015', '09-Sep-2015',\n",
       "       '10-Sep-2015', '11-Sep-2015', '12-Sep-2015', '13-Sep-2015',\n",
       "       '14-Sep-2015', '15-Sep-2015', '16-Sep-2015', '17-Sep-2015',\n",
       "       '18-Sep-2015', '19-Sep-2015', '20-Sep-2015', '21-Sep-2015',\n",
       "       '22-Sep-2015', '23-Sep-2015', '24-Sep-2015', '25-Sep-2015',\n",
       "       '26-Sep-2015', '27-Sep-2015', '28-Sep-2015', '29-Sep-2015',\n",
       "       '30-Sep-2015', '01-Oct-2015', '02-Oct-2015', '03-Oct-2015',\n",
       "       '04-Oct-2015', '05-Oct-2015', '06-Oct-2015', '07-Oct-2015',\n",
       "       '08-Oct-2015', '09-Oct-2015', '10-Oct-2015', '11-Oct-2015',\n",
       "       '12-Oct-2015', '13-Oct-2015', '14-Oct-2015', '15-Oct-2015',\n",
       "       '16-Oct-2015', '17-Oct-2015', '18-Oct-2015', '19-Oct-2015',\n",
       "       '20-Oct-2015', '21-Oct-2015', '22-Oct-2015', '23-Oct-2015',\n",
       "       '24-Oct-2015', '25-Oct-2015', '26-Oct-2015', '27-Oct-2015',\n",
       "       '28-Oct-2015', '29-Oct-2015', '30-Oct-2015', '31-Oct-2015',\n",
       "       '01-Nov-2015', '02-Nov-2015', '03-Nov-2015', '04-Nov-2015',\n",
       "       '05-Nov-2015', '06-Nov-2015', '07-Nov-2015', '08-Nov-2015',\n",
       "       '09-Nov-2015', '10-Nov-2015', '11-Nov-2015', '12-Nov-2015',\n",
       "       '13-Nov-2015', '14-Nov-2015', '15-Nov-2015', '16-Nov-2015',\n",
       "       '17-Nov-2015', '18-Nov-2015', '19-Nov-2015', '20-Nov-2015',\n",
       "       '21-Nov-2015', '22-Nov-2015', '23-Nov-2015', '24-Nov-2015',\n",
       "       '25-Nov-2015', '26-Nov-2015', '27-Nov-2015', '28-Nov-2015',\n",
       "       '29-Nov-2015', '30-Nov-2015', '01-Dec-2015', '02-Dec-2015',\n",
       "       '03-Dec-2015', '04-Dec-2015', '05-Dec-2015', '06-Dec-2015',\n",
       "       '07-Dec-2015', '08-Dec-2015', '09-Dec-2015', '10-Dec-2015',\n",
       "       '11-Dec-2015', '12-Dec-2015', '13-Dec-2015', '14-Dec-2015',\n",
       "       '15-Dec-2015', '16-Dec-2015', '17-Dec-2015', '18-Dec-2015',\n",
       "       '19-Dec-2015', '20-Dec-2015', '21-Dec-2015', '22-Dec-2015',\n",
       "       '23-Dec-2015', '24-Dec-2015', '25-Dec-2015', '26-Dec-2015',\n",
       "       '27-Dec-2015', '28-Dec-2015', '29-Dec-2015', '30-Dec-2015',\n",
       "       '31-Dec-2015', '01-Jan-2016', '02-Jan-2016', '03-Jan-2016',\n",
       "       '04-Jan-2016', '05-Jan-2016', '06-Jan-2016', '07-Jan-2016',\n",
       "       '08-Jan-2016', '09-Jan-2016', '10-Jan-2016', '11-Jan-2016',\n",
       "       '12-Jan-2016', '13-Jan-2016', '14-Jan-2016', '15-Jan-2016',\n",
       "       '16-Jan-2016', '17-Jan-2016', '18-Jan-2016', '19-Jan-2016',\n",
       "       '20-Jan-2016', '21-Jan-2016', '22-Jan-2016', '23-Jan-2016',\n",
       "       '24-Jan-2016', '25-Jan-2016', '26-Jan-2016', '27-Jan-2016',\n",
       "       '28-Jan-2016', '29-Jan-2016', '30-Jan-2016', '31-Jan-2016',\n",
       "       '01-Feb-2016', '02-Feb-2016', '03-Feb-2016', '04-Feb-2016',\n",
       "       '05-Feb-2016', '06-Feb-2016', '07-Feb-2016', '08-Feb-2016',\n",
       "       '09-Feb-2016', '10-Feb-2016', '11-Feb-2016', '12-Feb-2016',\n",
       "       '13-Feb-2016', '14-Feb-2016', '15-Feb-2016', '16-Feb-2016',\n",
       "       '17-Feb-2016', '18-Feb-2016', '19-Feb-2016', '20-Feb-2016',\n",
       "       '21-Feb-2016', '22-Feb-2016', '23-Feb-2016', '24-Feb-2016',\n",
       "       '25-Feb-2016', '26-Feb-2016', '27-Feb-2016', '28-Feb-2016',\n",
       "       '29-Feb-2016', '01-Mar-2016', '02-Mar-2016', '03-Mar-2016',\n",
       "       '04-Mar-2016', '05-Mar-2016', '06-Mar-2016', '07-Mar-2016',\n",
       "       '08-Mar-2016', '09-Mar-2016', '10-Mar-2016', '11-Mar-2016',\n",
       "       '12-Mar-2016', '13-Mar-2016', '14-Mar-2016', '15-Mar-2016',\n",
       "       '16-Mar-2016', '17-Mar-2016', '18-Mar-2016', '19-Mar-2016',\n",
       "       '20-Mar-2016', '21-Mar-2016', '22-Mar-2016', '23-Mar-2016',\n",
       "       '24-Mar-2016', '25-Mar-2016', '26-Mar-2016', '27-Mar-2016',\n",
       "       '28-Mar-2016', '29-Mar-2016', '30-Mar-2016', '31-Mar-2016',\n",
       "       '01-Apr-2016', '02-Apr-2016', '03-Apr-2016', '04-Apr-2016',\n",
       "       '05-Apr-2016', '06-Apr-2016', '07-Apr-2016', '08-Apr-2016',\n",
       "       '09-Apr-2016', '10-Apr-2016', '11-Apr-2016', '12-Apr-2016',\n",
       "       '13-Apr-2016', '14-Apr-2016', '15-Apr-2016', '16-Apr-2016',\n",
       "       '17-Apr-2016', '18-Apr-2016', '19-Apr-2016', '20-Apr-2016',\n",
       "       '21-Apr-2016', '22-Apr-2016', '23-Apr-2016', '24-Apr-2016',\n",
       "       '25-Apr-2016', '26-Apr-2016', '27-Apr-2016', '28-Apr-2016',\n",
       "       '29-Apr-2016', '30-Apr-2016', '01-May-2016', '02-May-2016',\n",
       "       '03-May-2016', '04-May-2016', '05-May-2016', '06-May-2016',\n",
       "       '07-May-2016', '08-May-2016', '09-May-2016', '10-May-2016',\n",
       "       '11-May-2016', '12-May-2016', '13-May-2016', '14-May-2016',\n",
       "       '15-May-2016', '16-May-2016', '17-May-2016', '18-May-2016',\n",
       "       '19-May-2016', '20-May-2016', '21-May-2016', '22-May-2016',\n",
       "       '23-May-2016', '24-May-2016', '25-May-2016', '26-May-2016',\n",
       "       '27-May-2016', '28-May-2016', '29-May-2016', '30-May-2016',\n",
       "       '31-May-2016'], dtype=object)"
      ]
     },
     "execution_count": 59,
     "metadata": {},
     "output_type": "execute_result"
    }
   ],
   "source": [
    "day_month_years = df_tranformed['day-month-year'].unique()\n",
    "day_month_years"
   ]
  },
  {
   "cell_type": "code",
   "execution_count": 60,
   "metadata": {},
   "outputs": [],
   "source": [
    "df_tranformed.to_csv(\"..\\..\\data\\MC1\\SensorData_year_month.csv\", index=False)"
   ]
  }
 ],
 "metadata": {
  "kernelspec": {
   "display_name": ".venv",
   "language": "python",
   "name": "python3"
  },
  "language_info": {
   "codemirror_mode": {
    "name": "ipython",
    "version": 3
   },
   "file_extension": ".py",
   "mimetype": "text/x-python",
   "name": "python",
   "nbconvert_exporter": "python",
   "pygments_lexer": "ipython3",
   "version": "3.10.10"
  },
  "orig_nbformat": 4
 },
 "nbformat": 4,
 "nbformat_minor": 2
}
