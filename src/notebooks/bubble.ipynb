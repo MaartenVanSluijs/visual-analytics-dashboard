{
 "cells": [
  {
   "attachments": {},
   "cell_type": "markdown",
   "metadata": {},
   "source": [
    "# Testing with making the bubble plot"
   ]
  },
  {
   "cell_type": "code",
   "execution_count": 1,
   "metadata": {},
   "outputs": [],
   "source": [
    "import pandas as pd\n",
    "import matplotlib.image as mpimg\n",
    "import plotly.express as px\n",
    "import plotly.graph_objects as go\n",
    "from matplotlib import image, pyplot\n",
    "# import logistic regression\n",
    "from sklearn.linear_model import LogisticRegression\n"
   ]
  },
  {
   "cell_type": "code",
   "execution_count": 2,
   "metadata": {},
   "outputs": [],
   "source": [
    "# read in data\n",
    "df_raw = pd.read_csv(\"..\\..\\data\\MC1\\SensorDataProcessed.csv\")\n",
    "img = mpimg.imread('..\\..\\data\\MC1\\Lekagul Roadways.bmp')"
   ]
  },
  {
   "cell_type": "code",
   "execution_count": 3,
   "metadata": {},
   "outputs": [],
   "source": [
    "# make a new dataframe with the columns: car-id, all gates as a binary one hot encoded column\n",
    "df_encoded = df_raw.groupby(['car-id', 'gate-name']).size().unstack(fill_value=0)\n",
    "df_encoded = df_encoded.reset_index()\n"
   ]
  },
  {
   "cell_type": "code",
   "execution_count": 6,
   "metadata": {},
   "outputs": [
    {
     "data": {
      "text/plain": [
       "gate-name\n",
       "car-id           20150001050042-811\n",
       "camping0                          0\n",
       "camping1                          0\n",
       "camping2                          0\n",
       "camping3                          0\n",
       "camping4                          0\n",
       "camping5                          0\n",
       "camping6                          0\n",
       "camping7                          2\n",
       "camping8                          0\n",
       "entrance0                         0\n",
       "entrance1                         0\n",
       "entrance2                         1\n",
       "entrance3                         0\n",
       "entrance4                         1\n",
       "gate0                             0\n",
       "gate1                             0\n",
       "gate2                             0\n",
       "gate3                             0\n",
       "gate4                             0\n",
       "gate5                             0\n",
       "gate6                             0\n",
       "gate7                             0\n",
       "gate8                             0\n",
       "general-gate0                     0\n",
       "general-gate1                     0\n",
       "general-gate2                     0\n",
       "general-gate3                     0\n",
       "general-gate4                     0\n",
       "general-gate5                     0\n",
       "general-gate6                     2\n",
       "general-gate7                     0\n",
       "ranger-base                       0\n",
       "ranger-stop0                      0\n",
       "ranger-stop1                      0\n",
       "ranger-stop2                      0\n",
       "ranger-stop3                      0\n",
       "ranger-stop4                      0\n",
       "ranger-stop5                      0\n",
       "ranger-stop6                      0\n",
       "ranger-stop7                      0\n",
       "Name: 1, dtype: object"
      ]
     },
     "execution_count": 6,
     "metadata": {},
     "output_type": "execute_result"
    }
   ],
   "source": [
    "df_encoded.iloc[1]"
   ]
  }
 ],
 "metadata": {
  "kernelspec": {
   "display_name": ".venv",
   "language": "python",
   "name": "python3"
  },
  "language_info": {
   "codemirror_mode": {
    "name": "ipython",
    "version": 3
   },
   "file_extension": ".py",
   "mimetype": "text/x-python",
   "name": "python",
   "nbconvert_exporter": "python",
   "pygments_lexer": "ipython3",
   "version": "3.10.10"
  },
  "orig_nbformat": 4
 },
 "nbformat": 4,
 "nbformat_minor": 2
}
