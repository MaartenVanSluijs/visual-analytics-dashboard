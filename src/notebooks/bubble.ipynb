{
 "cells": [
  {
   "attachments": {},
   "cell_type": "markdown",
   "metadata": {},
   "source": [
    "# Testing with making the bubble plot"
   ]
  },
  {
   "cell_type": "code",
   "execution_count": 120,
   "metadata": {},
   "outputs": [],
   "source": [
    "import pandas as pd\n",
    "import matplotlib.image as mpimg\n",
    "import plotly.express as px\n",
    "import plotly.graph_objects as go\n",
    "from matplotlib import image, pyplot\n",
    "import matplotlib.image as mpimg\n",
    "import  PIL.Image as Image\n"
   ]
  },
  {
   "cell_type": "code",
   "execution_count": 168,
   "metadata": {},
   "outputs": [],
   "source": [
    "import pandas as pd\n",
    "from sklearn.linear_model import LogisticRegression\n",
    "from sklearn.model_selection import train_test_split\n",
    "\n",
    "class model_trainer():\n",
    "    def __init__(self, name):\n",
    "        self.car_type = \"5\"\n",
    "\n",
    "        self.df = pd.read_csv(\"..\\..\\data\\MC1\\SensorDataProcessed.csv\")\n",
    "\n",
    "    def run_prediction(self):\n",
    "        # read df from csv\n",
    "        df_x = pd.read_csv(\"..\\..\\data\\MC1\\one_hot_encoding.csv\")\n",
    "        y_values = self.get_y_values(self.car_type)\n",
    "        x_train, x_test, y_train, y_test = train_test_split(df_x, y_values, test_size=0.20, random_state=69)\n",
    "\n",
    "        logistic_model = LogisticRegression(random_state=0).fit(x_train, y_train)\n",
    "        # return the coefficients of the model\n",
    "        return logistic_model.coef_[0]\n",
    "    \n",
    "    def get_y_values(self, car_type):\n",
    "        \n",
    "        def is_car_type(type):\n",
    "            return \"1\" if type == car_type else \"0\"\n",
    "\n",
    "        cars = self.df.groupby(by=\"car-id\").first()\n",
    "        encoded_cars = cars.replace({\"car-type\": {\"1\": is_car_type(\"1\"),\n",
    "                                                  \"2\": is_car_type(\"2\"),\n",
    "                                                  \"2P\": is_car_type(\"2P\"),\n",
    "                                                  \"3\": is_car_type(\"3\"),\n",
    "                                                  \"4\": is_car_type(\"4\"),\n",
    "                                                  \"5\": is_car_type(\"5\"),\n",
    "                                                  \"6\": is_car_type(\"6\")}})\n",
    "\n",
    "        return encoded_cars.sort_values(by=\"Timestamp\")['car-type']"
   ]
  },
  {
   "cell_type": "code",
   "execution_count": 169,
   "metadata": {},
   "outputs": [],
   "source": [
    "trainer = model_trainer('test')\n",
    "coefficients = trainer.run_prediction()"
   ]
  },
  {
   "cell_type": "code",
   "execution_count": 170,
   "metadata": {},
   "outputs": [
    {
     "data": {
      "text/plain": [
       "array([ 0.67129476,  0.14518929,  0.14341058,  0.08086764,  0.08087018,\n",
       "       -0.73168287,  1.11733022,  2.06220391, -1.09740183, -0.40748828,\n",
       "        0.2965917 , -3.12960688, -2.74970358, -2.76504049, -0.52632552,\n",
       "       -0.52632552, -2.4882633 , -0.24832654, -0.24832654, -3.42138793,\n",
       "       -0.59318046, -1.80116245, -0.09834901, -1.78391021, -0.09834901,\n",
       "       -0.31158982, -0.31158982,  0.69480982, -2.98636549, -0.11732294,\n",
       "       -0.27656736, -0.13895315, -0.13895315, -2.89677379, -0.01818731,\n",
       "       -0.47940568, -1.09409689, -1.27672534, -0.00956629, -0.00956629])"
      ]
     },
     "execution_count": 170,
     "metadata": {},
     "output_type": "execute_result"
    }
   ],
   "source": [
    "coefficients"
   ]
  },
  {
   "cell_type": "code",
   "execution_count": 171,
   "metadata": {},
   "outputs": [],
   "source": [
    "locations = pd.read_parquet(\"..\\..\\data\\MC1\\locations.parquet\")\n",
    "coordinates = locations['coordinates']\n",
    "img = mpimg.imread(\"..\\..\\data\\MC1\\Lekagul Roadways.bmp\")\n",
    "image = Image.open(\"..\\..\\data\\MC1\\Lekagul Roadways.bmp\")\n",
    "\n"
   ]
  },
  {
   "cell_type": "code",
   "execution_count": 172,
   "metadata": {},
   "outputs": [],
   "source": [
    "def make_car_bubbles(coordinates, coefficients, img)->go.Figure:\n",
    "    # get width and height of image PIL\n",
    "    img_width, img_height = image.size\n",
    "    scale_factor = 3\n",
    "\n",
    "    coefficients = [abs(x) for x in coefficients]\n",
    "\n",
    "    x_values = [(x[0])*scale_factor for x in coordinates]\n",
    "    y_values = [(x[1])*scale_factor for x in coordinates]\n",
    "\n",
    "    df_plot = pd.DataFrame({'x': x_values, 'y': y_values, 'size': coefficients})\n",
    "\n",
    "    fig = px.scatter(df_plot, x='x', y='y', size='size')\n",
    "\n",
    "    fig.update_xaxes(\n",
    "        visible=False,\n",
    "    )\n",
    "\n",
    "    fig.update_yaxes(\n",
    "        visible=False,\n",
    "    )\n",
    "\n",
    "    # Add image\n",
    "    fig.add_layout_image(\n",
    "        dict(\n",
    "            x=0,\n",
    "            sizex=img_width * scale_factor,\n",
    "            y=img_height * scale_factor,\n",
    "            sizey=img_height * scale_factor,\n",
    "            xref=\"x\",\n",
    "            yref=\"y\",\n",
    "            opacity=1.0,\n",
    "            layer=\"below\",\n",
    "            sizing=\"stretch\",\n",
    "            source=img)\n",
    "    )\n",
    "\n",
    "    # Configure other layout\n",
    "    fig.update_layout(\n",
    "        width=img_width * scale_factor,\n",
    "        height=img_height * scale_factor,\n",
    "        margin={\"l\": 0, \"r\": 0, \"t\": 0, \"b\": 0},\n",
    "    )\n",
    "\n",
    "    return fig"
   ]
  },
  {
   "cell_type": "code",
   "execution_count": 173,
   "metadata": {},
   "outputs": [],
   "source": [
    "fig = make_car_bubbles(coordinates, coefficients, image)"
   ]
  },
  {
   "cell_type": "code",
   "execution_count": 174,
   "metadata": {},
   "outputs": [
    {
     "data": {
      "application/vnd.plotly.v1+json": {
       "config": {
        "plotlyServerURL": "https://plot.ly"
       },
       "data": [
        {
         "hovertemplate": "x=%{x}<br>y=%{y}<br>size=%{marker.size}<extra></extra>",
         "legendgroup": "",
         "marker": {
          "color": "#636efa",
          "size": [
           0.6712947615026634,
           0.1451892875089031,
           0.14341057716764896,
           0.08086764442197095,
           0.08087017858536313,
           0.7316828715597629,
           1.1173302156494107,
           2.062203906429938,
           1.0974018250176336,
           0.4074882841048424,
           0.2965916999596305,
           3.1296068800073407,
           2.7497035799069978,
           2.7650404935304707,
           0.5263255216067272,
           0.5263255216067241,
           2.488263304799756,
           0.24832654043778823,
           0.24832654043778823,
           3.421387925055498,
           0.5931804634322044,
           1.8011624511951152,
           0.09834901264486257,
           1.7839102112877756,
           0.09834901264486187,
           0.31158982492414533,
           0.31158982492414533,
           0.6948098156764619,
           2.98636548643742,
           0.11732294329552148,
           0.2765673612790077,
           0.13895314531661476,
           0.13895314531661476,
           2.8967737886618505,
           0.01818731275318437,
           0.4794056792076101,
           1.0940968921594445,
           1.2767253419366804,
           0.009566287643926901,
           0.009566287643926901
          ],
          "sizemode": "area",
          "sizeref": 0.008553469812638746,
          "symbol": "circle"
         },
         "mode": "markers",
         "name": "",
         "orientation": "v",
         "showlegend": false,
         "type": "scatter",
         "x": [
          552,
          432,
          105,
          285,
          294,
          333,
          261,
          39,
          165,
          27,
          501,
          144,
          267,
          123,
          525,
          342,
          363,
          480,
          48,
          192,
          96,
          411,
          453,
          435,
          441,
          438,
          135,
          201,
          531,
          456,
          543,
          180,
          354,
          150,
          99,
          72,
          75,
          204,
          132,
          162
         ],
         "xaxis": "x",
         "y": [
          420,
          195,
          240,
          54,
          207,
          372,
          549,
          186,
          558,
          330,
          345,
          549,
          144,
          156,
          384,
          492,
          60,
          291,
          267,
          132,
          312,
          408,
          348,
          543,
          369,
          393,
          444,
          51,
          450,
          300,
          414,
          447,
          453,
          387,
          189,
          57,
          192,
          135,
          174,
          72
         ],
         "yaxis": "y"
        }
       ],
       "layout": {
        "height": 600,
        "images": [
         {
          "layer": "below",
          "opacity": 1,
          "sizex": 600,
          "sizey": 600,
          "sizing": "stretch",
          "source": "data:image/png;base64,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",
          "x": 0,
          "xref": "x",
          "y": 600,
          "yref": "y"
         }
        ],
        "legend": {
         "itemsizing": "constant",
         "tracegroupgap": 0
        },
        "margin": {
         "b": 0,
         "l": 0,
         "r": 0,
         "t": 0
        },
        "template": {
         "data": {
          "bar": [
           {
            "error_x": {
             "color": "#2a3f5f"
            },
            "error_y": {
             "color": "#2a3f5f"
            },
            "marker": {
             "line": {
              "color": "#E5ECF6",
              "width": 0.5
             },
             "pattern": {
              "fillmode": "overlay",
              "size": 10,
              "solidity": 0.2
             }
            },
            "type": "bar"
           }
          ],
          "barpolar": [
           {
            "marker": {
             "line": {
              "color": "#E5ECF6",
              "width": 0.5
             },
             "pattern": {
              "fillmode": "overlay",
              "size": 10,
              "solidity": 0.2
             }
            },
            "type": "barpolar"
           }
          ],
          "carpet": [
           {
            "aaxis": {
             "endlinecolor": "#2a3f5f",
             "gridcolor": "white",
             "linecolor": "white",
             "minorgridcolor": "white",
             "startlinecolor": "#2a3f5f"
            },
            "baxis": {
             "endlinecolor": "#2a3f5f",
             "gridcolor": "white",
             "linecolor": "white",
             "minorgridcolor": "white",
             "startlinecolor": "#2a3f5f"
            },
            "type": "carpet"
           }
          ],
          "choropleth": [
           {
            "colorbar": {
             "outlinewidth": 0,
             "ticks": ""
            },
            "type": "choropleth"
           }
          ],
          "contour": [
           {
            "colorbar": {
             "outlinewidth": 0,
             "ticks": ""
            },
            "colorscale": [
             [
              0,
              "#0d0887"
             ],
             [
              0.1111111111111111,
              "#46039f"
             ],
             [
              0.2222222222222222,
              "#7201a8"
             ],
             [
              0.3333333333333333,
              "#9c179e"
             ],
             [
              0.4444444444444444,
              "#bd3786"
             ],
             [
              0.5555555555555556,
              "#d8576b"
             ],
             [
              0.6666666666666666,
              "#ed7953"
             ],
             [
              0.7777777777777778,
              "#fb9f3a"
             ],
             [
              0.8888888888888888,
              "#fdca26"
             ],
             [
              1,
              "#f0f921"
             ]
            ],
            "type": "contour"
           }
          ],
          "contourcarpet": [
           {
            "colorbar": {
             "outlinewidth": 0,
             "ticks": ""
            },
            "type": "contourcarpet"
           }
          ],
          "heatmap": [
           {
            "colorbar": {
             "outlinewidth": 0,
             "ticks": ""
            },
            "colorscale": [
             [
              0,
              "#0d0887"
             ],
             [
              0.1111111111111111,
              "#46039f"
             ],
             [
              0.2222222222222222,
              "#7201a8"
             ],
             [
              0.3333333333333333,
              "#9c179e"
             ],
             [
              0.4444444444444444,
              "#bd3786"
             ],
             [
              0.5555555555555556,
              "#d8576b"
             ],
             [
              0.6666666666666666,
              "#ed7953"
             ],
             [
              0.7777777777777778,
              "#fb9f3a"
             ],
             [
              0.8888888888888888,
              "#fdca26"
             ],
             [
              1,
              "#f0f921"
             ]
            ],
            "type": "heatmap"
           }
          ],
          "heatmapgl": [
           {
            "colorbar": {
             "outlinewidth": 0,
             "ticks": ""
            },
            "colorscale": [
             [
              0,
              "#0d0887"
             ],
             [
              0.1111111111111111,
              "#46039f"
             ],
             [
              0.2222222222222222,
              "#7201a8"
             ],
             [
              0.3333333333333333,
              "#9c179e"
             ],
             [
              0.4444444444444444,
              "#bd3786"
             ],
             [
              0.5555555555555556,
              "#d8576b"
             ],
             [
              0.6666666666666666,
              "#ed7953"
             ],
             [
              0.7777777777777778,
              "#fb9f3a"
             ],
             [
              0.8888888888888888,
              "#fdca26"
             ],
             [
              1,
              "#f0f921"
             ]
            ],
            "type": "heatmapgl"
           }
          ],
          "histogram": [
           {
            "marker": {
             "pattern": {
              "fillmode": "overlay",
              "size": 10,
              "solidity": 0.2
             }
            },
            "type": "histogram"
           }
          ],
          "histogram2d": [
           {
            "colorbar": {
             "outlinewidth": 0,
             "ticks": ""
            },
            "colorscale": [
             [
              0,
              "#0d0887"
             ],
             [
              0.1111111111111111,
              "#46039f"
             ],
             [
              0.2222222222222222,
              "#7201a8"
             ],
             [
              0.3333333333333333,
              "#9c179e"
             ],
             [
              0.4444444444444444,
              "#bd3786"
             ],
             [
              0.5555555555555556,
              "#d8576b"
             ],
             [
              0.6666666666666666,
              "#ed7953"
             ],
             [
              0.7777777777777778,
              "#fb9f3a"
             ],
             [
              0.8888888888888888,
              "#fdca26"
             ],
             [
              1,
              "#f0f921"
             ]
            ],
            "type": "histogram2d"
           }
          ],
          "histogram2dcontour": [
           {
            "colorbar": {
             "outlinewidth": 0,
             "ticks": ""
            },
            "colorscale": [
             [
              0,
              "#0d0887"
             ],
             [
              0.1111111111111111,
              "#46039f"
             ],
             [
              0.2222222222222222,
              "#7201a8"
             ],
             [
              0.3333333333333333,
              "#9c179e"
             ],
             [
              0.4444444444444444,
              "#bd3786"
             ],
             [
              0.5555555555555556,
              "#d8576b"
             ],
             [
              0.6666666666666666,
              "#ed7953"
             ],
             [
              0.7777777777777778,
              "#fb9f3a"
             ],
             [
              0.8888888888888888,
              "#fdca26"
             ],
             [
              1,
              "#f0f921"
             ]
            ],
            "type": "histogram2dcontour"
           }
          ],
          "mesh3d": [
           {
            "colorbar": {
             "outlinewidth": 0,
             "ticks": ""
            },
            "type": "mesh3d"
           }
          ],
          "parcoords": [
           {
            "line": {
             "colorbar": {
              "outlinewidth": 0,
              "ticks": ""
             }
            },
            "type": "parcoords"
           }
          ],
          "pie": [
           {
            "automargin": true,
            "type": "pie"
           }
          ],
          "scatter": [
           {
            "fillpattern": {
             "fillmode": "overlay",
             "size": 10,
             "solidity": 0.2
            },
            "type": "scatter"
           }
          ],
          "scatter3d": [
           {
            "line": {
             "colorbar": {
              "outlinewidth": 0,
              "ticks": ""
             }
            },
            "marker": {
             "colorbar": {
              "outlinewidth": 0,
              "ticks": ""
             }
            },
            "type": "scatter3d"
           }
          ],
          "scattercarpet": [
           {
            "marker": {
             "colorbar": {
              "outlinewidth": 0,
              "ticks": ""
             }
            },
            "type": "scattercarpet"
           }
          ],
          "scattergeo": [
           {
            "marker": {
             "colorbar": {
              "outlinewidth": 0,
              "ticks": ""
             }
            },
            "type": "scattergeo"
           }
          ],
          "scattergl": [
           {
            "marker": {
             "colorbar": {
              "outlinewidth": 0,
              "ticks": ""
             }
            },
            "type": "scattergl"
           }
          ],
          "scattermapbox": [
           {
            "marker": {
             "colorbar": {
              "outlinewidth": 0,
              "ticks": ""
             }
            },
            "type": "scattermapbox"
           }
          ],
          "scatterpolar": [
           {
            "marker": {
             "colorbar": {
              "outlinewidth": 0,
              "ticks": ""
             }
            },
            "type": "scatterpolar"
           }
          ],
          "scatterpolargl": [
           {
            "marker": {
             "colorbar": {
              "outlinewidth": 0,
              "ticks": ""
             }
            },
            "type": "scatterpolargl"
           }
          ],
          "scatterternary": [
           {
            "marker": {
             "colorbar": {
              "outlinewidth": 0,
              "ticks": ""
             }
            },
            "type": "scatterternary"
           }
          ],
          "surface": [
           {
            "colorbar": {
             "outlinewidth": 0,
             "ticks": ""
            },
            "colorscale": [
             [
              0,
              "#0d0887"
             ],
             [
              0.1111111111111111,
              "#46039f"
             ],
             [
              0.2222222222222222,
              "#7201a8"
             ],
             [
              0.3333333333333333,
              "#9c179e"
             ],
             [
              0.4444444444444444,
              "#bd3786"
             ],
             [
              0.5555555555555556,
              "#d8576b"
             ],
             [
              0.6666666666666666,
              "#ed7953"
             ],
             [
              0.7777777777777778,
              "#fb9f3a"
             ],
             [
              0.8888888888888888,
              "#fdca26"
             ],
             [
              1,
              "#f0f921"
             ]
            ],
            "type": "surface"
           }
          ],
          "table": [
           {
            "cells": {
             "fill": {
              "color": "#EBF0F8"
             },
             "line": {
              "color": "white"
             }
            },
            "header": {
             "fill": {
              "color": "#C8D4E3"
             },
             "line": {
              "color": "white"
             }
            },
            "type": "table"
           }
          ]
         },
         "layout": {
          "annotationdefaults": {
           "arrowcolor": "#2a3f5f",
           "arrowhead": 0,
           "arrowwidth": 1
          },
          "autotypenumbers": "strict",
          "coloraxis": {
           "colorbar": {
            "outlinewidth": 0,
            "ticks": ""
           }
          },
          "colorscale": {
           "diverging": [
            [
             0,
             "#8e0152"
            ],
            [
             0.1,
             "#c51b7d"
            ],
            [
             0.2,
             "#de77ae"
            ],
            [
             0.3,
             "#f1b6da"
            ],
            [
             0.4,
             "#fde0ef"
            ],
            [
             0.5,
             "#f7f7f7"
            ],
            [
             0.6,
             "#e6f5d0"
            ],
            [
             0.7,
             "#b8e186"
            ],
            [
             0.8,
             "#7fbc41"
            ],
            [
             0.9,
             "#4d9221"
            ],
            [
             1,
             "#276419"
            ]
           ],
           "sequential": [
            [
             0,
             "#0d0887"
            ],
            [
             0.1111111111111111,
             "#46039f"
            ],
            [
             0.2222222222222222,
             "#7201a8"
            ],
            [
             0.3333333333333333,
             "#9c179e"
            ],
            [
             0.4444444444444444,
             "#bd3786"
            ],
            [
             0.5555555555555556,
             "#d8576b"
            ],
            [
             0.6666666666666666,
             "#ed7953"
            ],
            [
             0.7777777777777778,
             "#fb9f3a"
            ],
            [
             0.8888888888888888,
             "#fdca26"
            ],
            [
             1,
             "#f0f921"
            ]
           ],
           "sequentialminus": [
            [
             0,
             "#0d0887"
            ],
            [
             0.1111111111111111,
             "#46039f"
            ],
            [
             0.2222222222222222,
             "#7201a8"
            ],
            [
             0.3333333333333333,
             "#9c179e"
            ],
            [
             0.4444444444444444,
             "#bd3786"
            ],
            [
             0.5555555555555556,
             "#d8576b"
            ],
            [
             0.6666666666666666,
             "#ed7953"
            ],
            [
             0.7777777777777778,
             "#fb9f3a"
            ],
            [
             0.8888888888888888,
             "#fdca26"
            ],
            [
             1,
             "#f0f921"
            ]
           ]
          },
          "colorway": [
           "#636efa",
           "#EF553B",
           "#00cc96",
           "#ab63fa",
           "#FFA15A",
           "#19d3f3",
           "#FF6692",
           "#B6E880",
           "#FF97FF",
           "#FECB52"
          ],
          "font": {
           "color": "#2a3f5f"
          },
          "geo": {
           "bgcolor": "white",
           "lakecolor": "white",
           "landcolor": "#E5ECF6",
           "showlakes": true,
           "showland": true,
           "subunitcolor": "white"
          },
          "hoverlabel": {
           "align": "left"
          },
          "hovermode": "closest",
          "mapbox": {
           "style": "light"
          },
          "paper_bgcolor": "white",
          "plot_bgcolor": "#E5ECF6",
          "polar": {
           "angularaxis": {
            "gridcolor": "white",
            "linecolor": "white",
            "ticks": ""
           },
           "bgcolor": "#E5ECF6",
           "radialaxis": {
            "gridcolor": "white",
            "linecolor": "white",
            "ticks": ""
           }
          },
          "scene": {
           "xaxis": {
            "backgroundcolor": "#E5ECF6",
            "gridcolor": "white",
            "gridwidth": 2,
            "linecolor": "white",
            "showbackground": true,
            "ticks": "",
            "zerolinecolor": "white"
           },
           "yaxis": {
            "backgroundcolor": "#E5ECF6",
            "gridcolor": "white",
            "gridwidth": 2,
            "linecolor": "white",
            "showbackground": true,
            "ticks": "",
            "zerolinecolor": "white"
           },
           "zaxis": {
            "backgroundcolor": "#E5ECF6",
            "gridcolor": "white",
            "gridwidth": 2,
            "linecolor": "white",
            "showbackground": true,
            "ticks": "",
            "zerolinecolor": "white"
           }
          },
          "shapedefaults": {
           "line": {
            "color": "#2a3f5f"
           }
          },
          "ternary": {
           "aaxis": {
            "gridcolor": "white",
            "linecolor": "white",
            "ticks": ""
           },
           "baxis": {
            "gridcolor": "white",
            "linecolor": "white",
            "ticks": ""
           },
           "bgcolor": "#E5ECF6",
           "caxis": {
            "gridcolor": "white",
            "linecolor": "white",
            "ticks": ""
           }
          },
          "title": {
           "x": 0.05
          },
          "xaxis": {
           "automargin": true,
           "gridcolor": "white",
           "linecolor": "white",
           "ticks": "",
           "title": {
            "standoff": 15
           },
           "zerolinecolor": "white",
           "zerolinewidth": 2
          },
          "yaxis": {
           "automargin": true,
           "gridcolor": "white",
           "linecolor": "white",
           "ticks": "",
           "title": {
            "standoff": 15
           },
           "zerolinecolor": "white",
           "zerolinewidth": 2
          }
         }
        },
        "width": 600,
        "xaxis": {
         "anchor": "y",
         "domain": [
          0,
          1
         ],
         "title": {
          "text": "x"
         },
         "visible": false
        },
        "yaxis": {
         "anchor": "x",
         "domain": [
          0,
          1
         ],
         "title": {
          "text": "y"
         },
         "visible": false
        }
       }
      }
     },
     "metadata": {},
     "output_type": "display_data"
    }
   ],
   "source": [
    "fig.show()"
   ]
  },
  {
   "cell_type": "code",
   "execution_count": null,
   "metadata": {},
   "outputs": [],
   "source": []
  }
 ],
 "metadata": {
  "kernelspec": {
   "display_name": ".venv",
   "language": "python",
   "name": "python3"
  },
  "language_info": {
   "codemirror_mode": {
    "name": "ipython",
    "version": 3
   },
   "file_extension": ".py",
   "mimetype": "text/x-python",
   "name": "python",
   "nbconvert_exporter": "python",
   "pygments_lexer": "ipython3",
   "version": "3.10.10"
  },
  "orig_nbformat": 4
 },
 "nbformat": 4,
 "nbformat_minor": 2
}
