{
 "cells": [
  {
   "attachments": {},
   "cell_type": "markdown",
   "metadata": {},
   "source": [
    "# Testing with making the bubble plot"
   ]
  },
  {
   "cell_type": "code",
   "execution_count": 1,
   "metadata": {},
   "outputs": [],
   "source": [
    "import pandas as pd\n",
    "import matplotlib.image as mpimg\n",
    "import plotly.express as px\n",
    "import plotly.graph_objects as go\n",
    "from matplotlib import image, pyplot\n",
    "import matplotlib.image as mpimg\n",
    "import  PIL.Image as Image\n"
   ]
  },
  {
   "cell_type": "code",
   "execution_count": 14,
   "metadata": {},
   "outputs": [],
   "source": [
    "import pandas as pd\n",
    "from sklearn.linear_model import LogisticRegression\n",
    "from sklearn.model_selection import train_test_split\n",
    "\n",
    "class model_trainer():\n",
    "    def __init__(self, name):\n",
    "        self.car_type = \"2P\"\n",
    "\n",
    "        self.df = pd.read_csv(\"..\\..\\data\\MC1\\SensorDataProcessed.csv\")\n",
    "\n",
    "    def run_prediction(self):\n",
    "        # read df from csv\n",
    "        df_x = pd.read_csv(\"..\\..\\data\\MC1\\one_hot_encoding.csv\")\n",
    "        y_values = self.get_y_values(self.car_type)\n",
    "        x_train, x_test, y_train, y_test = train_test_split(df_x, y_values, test_size=0.20, random_state=69)\n",
    "\n",
    "        logistic_model = LogisticRegression(random_state=0).fit(x_train, y_train)\n",
    "        # return the coefficients of the model\n",
    "        return logistic_model.coef_[0]\n",
    "    \n",
    "    def get_y_values(self, car_type):\n",
    "        \n",
    "        def is_car_type(type):\n",
    "            return \"1\" if type == car_type else \"0\"\n",
    "\n",
    "        cars = self.df.groupby(by=\"car-id\").first()\n",
    "        encoded_cars = cars.replace({\"car-type\": {\"1\": is_car_type(\"1\"),\n",
    "                                                  \"2\": is_car_type(\"2\"),\n",
    "                                                  \"2P\": is_car_type(\"2P\"),\n",
    "                                                  \"3\": is_car_type(\"3\"),\n",
    "                                                  \"4\": is_car_type(\"4\"),\n",
    "                                                  \"5\": is_car_type(\"5\"),\n",
    "                                                  \"6\": is_car_type(\"6\")}})\n",
    "\n",
    "        return encoded_cars.sort_values(by=\"Timestamp\")['car-type']"
   ]
  },
  {
   "cell_type": "code",
   "execution_count": 15,
   "metadata": {},
   "outputs": [],
   "source": [
    "trainer = model_trainer('test')\n",
    "coefficients = trainer.run_prediction()"
   ]
  },
  {
   "cell_type": "code",
   "execution_count": 16,
   "metadata": {},
   "outputs": [
    {
     "data": {
      "text/plain": [
       "array([-1.48427207e+00, -5.56521416e-01, -2.24259512e-01,  1.00721577e-01,\n",
       "        9.04149562e-02,  3.96565470e-01, -1.52128059e+00, -1.34959336e+00,\n",
       "       -9.77255956e-02, -3.13634902e-01, -1.38376189e+00, -7.51369135e-02,\n",
       "       -4.08299289e-02, -1.21783123e-01,  4.10708678e+00,  4.10708678e+00,\n",
       "       -9.64999379e-02,  4.21451575e-01,  4.21451575e-01, -4.58374113e-01,\n",
       "        2.01844998e-01, -2.73384687e-01,  6.24112521e-01, -2.72555327e-01,\n",
       "        6.24112521e-01,  6.34038058e-01,  6.34038058e-01, -1.42934108e+00,\n",
       "        4.02087492e-01,  1.40699120e+00,  2.54097106e-01,  3.83027752e-01,\n",
       "        3.83027752e-01, -1.16425713e-01, -2.50242331e-01, -2.55638244e-01,\n",
       "       -1.23846570e-03, -1.74595634e-02,  3.82792822e-01,  3.82792822e-01])"
      ]
     },
     "execution_count": 16,
     "metadata": {},
     "output_type": "execute_result"
    }
   ],
   "source": [
    "coefficients"
   ]
  },
  {
   "cell_type": "code",
   "execution_count": 17,
   "metadata": {},
   "outputs": [],
   "source": [
    "locations = pd.read_parquet(\"..\\..\\data\\MC1\\locations.parquet\")\n",
    "coordinates = locations['coordinates']\n",
    "img = mpimg.imread(\"..\\..\\data\\MC1\\Lekagul Roadways.bmp\")\n",
    "image = Image.open(\"..\\..\\data\\MC1\\Lekagul Roadways.bmp\")"
   ]
  },
  {
   "cell_type": "code",
   "execution_count": 37,
   "metadata": {},
   "outputs": [],
   "source": [
    "def make_car_bubbles(coordinates, coefficients, img)->go.Figure:\n",
    "    # get width and height of img PIL\n",
    "    img_width, img_height = image.size\n",
    "    scale_factor = 3\n",
    "\n",
    "    coefficients = [abs(x) for x in coefficients]\n",
    "\n",
    "    x_values = [x[0]*scale_factor for x in coordinates]\n",
    "    y_values = [x[1]*scale_factor for x in coordinates]\n",
    "\n",
    "    print(x_values)\n",
    "    print(y_values)\n",
    "\n",
    "    df_plot = pd.DataFrame({'x': x_values, 'y': y_values, 'size': coefficients})\n",
    "\n",
    "    fig = px.scatter(df_plot, x='x', y='y', size='size')\n",
    "\n",
    "    fig.update_xaxes(\n",
    "        visible=False,\n",
    "    )\n",
    "\n",
    "    fig.update_yaxes(\n",
    "        visible=False,\n",
    "    )\n",
    "\n",
    "    # Add image\n",
    "    fig.add_layout_image(\n",
    "        dict(\n",
    "            x=0,\n",
    "            sizex=img_width * scale_factor,\n",
    "            y=img_height * scale_factor,\n",
    "            sizey=img_height * scale_factor,\n",
    "            xref=\"x\",\n",
    "            yref=\"y\",\n",
    "            opacity=1.0,\n",
    "            layer=\"below\",\n",
    "            sizing=\"stretch\",\n",
    "            source=img)\n",
    "    )\n",
    "\n",
    "    # Configure other layout\n",
    "    fig.update_layout(\n",
    "        width=img_width * scale_factor,\n",
    "        height=img_height * scale_factor,\n",
    "        margin={\"l\": 0, \"r\": 0, \"t\": 0, \"b\": 0},\n",
    "    )\n",
    "\n",
    "    return fig"
   ]
  },
  {
   "cell_type": "code",
   "execution_count": 38,
   "metadata": {},
   "outputs": [
    {
     "name": "stdout",
     "output_type": "stream",
     "text": [
      "[345, 192, 240, 267, 312, 372, 420, 51, 195, 207, 549, 450, 132, 135, 384, 414, 156, 447, 444, 549, 558, 408, 492, 543, 453, 393, 369, 186, 60, 54, 348, 291, 300, 144, 72, 57, 330, 387, 174, 189]\n",
      "[99, 525, 495, 552, 504, 267, 48, 399, 168, 306, 339, 69, 408, 396, 75, 57, 477, 420, 465, 456, 435, 189, 258, 165, 246, 162, 159, 561, 237, 315, 147, 120, 144, 333, 438, 528, 573, 450, 468, 501]\n"
     ]
    }
   ],
   "source": [
    "fig = make_car_bubbles(coordinates, coefficients, image)"
   ]
  },
  {
   "cell_type": "code",
   "execution_count": 39,
   "metadata": {},
   "outputs": [
    {
     "data": {
      "application/vnd.plotly.v1+json": {
       "config": {
        "plotlyServerURL": "https://plot.ly"
       },
       "data": [
        {
         "hovertemplate": "x: %{x}<br>y: %{y}<br>color: %{z}<extra></extra>",
         "name": "0",
         "source": "data:image/png;base64,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",
         "type": "image",
         "xaxis": "x",
         "yaxis": "y"
        }
       ],
       "layout": {
        "margin": {
         "t": 60
        },
        "template": {
         "data": {
          "bar": [
           {
            "error_x": {
             "color": "#2a3f5f"
            },
            "error_y": {
             "color": "#2a3f5f"
            },
            "marker": {
             "line": {
              "color": "#E5ECF6",
              "width": 0.5
             },
             "pattern": {
              "fillmode": "overlay",
              "size": 10,
              "solidity": 0.2
             }
            },
            "type": "bar"
           }
          ],
          "barpolar": [
           {
            "marker": {
             "line": {
              "color": "#E5ECF6",
              "width": 0.5
             },
             "pattern": {
              "fillmode": "overlay",
              "size": 10,
              "solidity": 0.2
             }
            },
            "type": "barpolar"
           }
          ],
          "carpet": [
           {
            "aaxis": {
             "endlinecolor": "#2a3f5f",
             "gridcolor": "white",
             "linecolor": "white",
             "minorgridcolor": "white",
             "startlinecolor": "#2a3f5f"
            },
            "baxis": {
             "endlinecolor": "#2a3f5f",
             "gridcolor": "white",
             "linecolor": "white",
             "minorgridcolor": "white",
             "startlinecolor": "#2a3f5f"
            },
            "type": "carpet"
           }
          ],
          "choropleth": [
           {
            "colorbar": {
             "outlinewidth": 0,
             "ticks": ""
            },
            "type": "choropleth"
           }
          ],
          "contour": [
           {
            "colorbar": {
             "outlinewidth": 0,
             "ticks": ""
            },
            "colorscale": [
             [
              0,
              "#0d0887"
             ],
             [
              0.1111111111111111,
              "#46039f"
             ],
             [
              0.2222222222222222,
              "#7201a8"
             ],
             [
              0.3333333333333333,
              "#9c179e"
             ],
             [
              0.4444444444444444,
              "#bd3786"
             ],
             [
              0.5555555555555556,
              "#d8576b"
             ],
             [
              0.6666666666666666,
              "#ed7953"
             ],
             [
              0.7777777777777778,
              "#fb9f3a"
             ],
             [
              0.8888888888888888,
              "#fdca26"
             ],
             [
              1,
              "#f0f921"
             ]
            ],
            "type": "contour"
           }
          ],
          "contourcarpet": [
           {
            "colorbar": {
             "outlinewidth": 0,
             "ticks": ""
            },
            "type": "contourcarpet"
           }
          ],
          "heatmap": [
           {
            "colorbar": {
             "outlinewidth": 0,
             "ticks": ""
            },
            "colorscale": [
             [
              0,
              "#0d0887"
             ],
             [
              0.1111111111111111,
              "#46039f"
             ],
             [
              0.2222222222222222,
              "#7201a8"
             ],
             [
              0.3333333333333333,
              "#9c179e"
             ],
             [
              0.4444444444444444,
              "#bd3786"
             ],
             [
              0.5555555555555556,
              "#d8576b"
             ],
             [
              0.6666666666666666,
              "#ed7953"
             ],
             [
              0.7777777777777778,
              "#fb9f3a"
             ],
             [
              0.8888888888888888,
              "#fdca26"
             ],
             [
              1,
              "#f0f921"
             ]
            ],
            "type": "heatmap"
           }
          ],
          "heatmapgl": [
           {
            "colorbar": {
             "outlinewidth": 0,
             "ticks": ""
            },
            "colorscale": [
             [
              0,
              "#0d0887"
             ],
             [
              0.1111111111111111,
              "#46039f"
             ],
             [
              0.2222222222222222,
              "#7201a8"
             ],
             [
              0.3333333333333333,
              "#9c179e"
             ],
             [
              0.4444444444444444,
              "#bd3786"
             ],
             [
              0.5555555555555556,
              "#d8576b"
             ],
             [
              0.6666666666666666,
              "#ed7953"
             ],
             [
              0.7777777777777778,
              "#fb9f3a"
             ],
             [
              0.8888888888888888,
              "#fdca26"
             ],
             [
              1,
              "#f0f921"
             ]
            ],
            "type": "heatmapgl"
           }
          ],
          "histogram": [
           {
            "marker": {
             "pattern": {
              "fillmode": "overlay",
              "size": 10,
              "solidity": 0.2
             }
            },
            "type": "histogram"
           }
          ],
          "histogram2d": [
           {
            "colorbar": {
             "outlinewidth": 0,
             "ticks": ""
            },
            "colorscale": [
             [
              0,
              "#0d0887"
             ],
             [
              0.1111111111111111,
              "#46039f"
             ],
             [
              0.2222222222222222,
              "#7201a8"
             ],
             [
              0.3333333333333333,
              "#9c179e"
             ],
             [
              0.4444444444444444,
              "#bd3786"
             ],
             [
              0.5555555555555556,
              "#d8576b"
             ],
             [
              0.6666666666666666,
              "#ed7953"
             ],
             [
              0.7777777777777778,
              "#fb9f3a"
             ],
             [
              0.8888888888888888,
              "#fdca26"
             ],
             [
              1,
              "#f0f921"
             ]
            ],
            "type": "histogram2d"
           }
          ],
          "histogram2dcontour": [
           {
            "colorbar": {
             "outlinewidth": 0,
             "ticks": ""
            },
            "colorscale": [
             [
              0,
              "#0d0887"
             ],
             [
              0.1111111111111111,
              "#46039f"
             ],
             [
              0.2222222222222222,
              "#7201a8"
             ],
             [
              0.3333333333333333,
              "#9c179e"
             ],
             [
              0.4444444444444444,
              "#bd3786"
             ],
             [
              0.5555555555555556,
              "#d8576b"
             ],
             [
              0.6666666666666666,
              "#ed7953"
             ],
             [
              0.7777777777777778,
              "#fb9f3a"
             ],
             [
              0.8888888888888888,
              "#fdca26"
             ],
             [
              1,
              "#f0f921"
             ]
            ],
            "type": "histogram2dcontour"
           }
          ],
          "mesh3d": [
           {
            "colorbar": {
             "outlinewidth": 0,
             "ticks": ""
            },
            "type": "mesh3d"
           }
          ],
          "parcoords": [
           {
            "line": {
             "colorbar": {
              "outlinewidth": 0,
              "ticks": ""
             }
            },
            "type": "parcoords"
           }
          ],
          "pie": [
           {
            "automargin": true,
            "type": "pie"
           }
          ],
          "scatter": [
           {
            "fillpattern": {
             "fillmode": "overlay",
             "size": 10,
             "solidity": 0.2
            },
            "type": "scatter"
           }
          ],
          "scatter3d": [
           {
            "line": {
             "colorbar": {
              "outlinewidth": 0,
              "ticks": ""
             }
            },
            "marker": {
             "colorbar": {
              "outlinewidth": 0,
              "ticks": ""
             }
            },
            "type": "scatter3d"
           }
          ],
          "scattercarpet": [
           {
            "marker": {
             "colorbar": {
              "outlinewidth": 0,
              "ticks": ""
             }
            },
            "type": "scattercarpet"
           }
          ],
          "scattergeo": [
           {
            "marker": {
             "colorbar": {
              "outlinewidth": 0,
              "ticks": ""
             }
            },
            "type": "scattergeo"
           }
          ],
          "scattergl": [
           {
            "marker": {
             "colorbar": {
              "outlinewidth": 0,
              "ticks": ""
             }
            },
            "type": "scattergl"
           }
          ],
          "scattermapbox": [
           {
            "marker": {
             "colorbar": {
              "outlinewidth": 0,
              "ticks": ""
             }
            },
            "type": "scattermapbox"
           }
          ],
          "scatterpolar": [
           {
            "marker": {
             "colorbar": {
              "outlinewidth": 0,
              "ticks": ""
             }
            },
            "type": "scatterpolar"
           }
          ],
          "scatterpolargl": [
           {
            "marker": {
             "colorbar": {
              "outlinewidth": 0,
              "ticks": ""
             }
            },
            "type": "scatterpolargl"
           }
          ],
          "scatterternary": [
           {
            "marker": {
             "colorbar": {
              "outlinewidth": 0,
              "ticks": ""
             }
            },
            "type": "scatterternary"
           }
          ],
          "surface": [
           {
            "colorbar": {
             "outlinewidth": 0,
             "ticks": ""
            },
            "colorscale": [
             [
              0,
              "#0d0887"
             ],
             [
              0.1111111111111111,
              "#46039f"
             ],
             [
              0.2222222222222222,
              "#7201a8"
             ],
             [
              0.3333333333333333,
              "#9c179e"
             ],
             [
              0.4444444444444444,
              "#bd3786"
             ],
             [
              0.5555555555555556,
              "#d8576b"
             ],
             [
              0.6666666666666666,
              "#ed7953"
             ],
             [
              0.7777777777777778,
              "#fb9f3a"
             ],
             [
              0.8888888888888888,
              "#fdca26"
             ],
             [
              1,
              "#f0f921"
             ]
            ],
            "type": "surface"
           }
          ],
          "table": [
           {
            "cells": {
             "fill": {
              "color": "#EBF0F8"
             },
             "line": {
              "color": "white"
             }
            },
            "header": {
             "fill": {
              "color": "#C8D4E3"
             },
             "line": {
              "color": "white"
             }
            },
            "type": "table"
           }
          ]
         },
         "layout": {
          "annotationdefaults": {
           "arrowcolor": "#2a3f5f",
           "arrowhead": 0,
           "arrowwidth": 1
          },
          "autotypenumbers": "strict",
          "coloraxis": {
           "colorbar": {
            "outlinewidth": 0,
            "ticks": ""
           }
          },
          "colorscale": {
           "diverging": [
            [
             0,
             "#8e0152"
            ],
            [
             0.1,
             "#c51b7d"
            ],
            [
             0.2,
             "#de77ae"
            ],
            [
             0.3,
             "#f1b6da"
            ],
            [
             0.4,
             "#fde0ef"
            ],
            [
             0.5,
             "#f7f7f7"
            ],
            [
             0.6,
             "#e6f5d0"
            ],
            [
             0.7,
             "#b8e186"
            ],
            [
             0.8,
             "#7fbc41"
            ],
            [
             0.9,
             "#4d9221"
            ],
            [
             1,
             "#276419"
            ]
           ],
           "sequential": [
            [
             0,
             "#0d0887"
            ],
            [
             0.1111111111111111,
             "#46039f"
            ],
            [
             0.2222222222222222,
             "#7201a8"
            ],
            [
             0.3333333333333333,
             "#9c179e"
            ],
            [
             0.4444444444444444,
             "#bd3786"
            ],
            [
             0.5555555555555556,
             "#d8576b"
            ],
            [
             0.6666666666666666,
             "#ed7953"
            ],
            [
             0.7777777777777778,
             "#fb9f3a"
            ],
            [
             0.8888888888888888,
             "#fdca26"
            ],
            [
             1,
             "#f0f921"
            ]
           ],
           "sequentialminus": [
            [
             0,
             "#0d0887"
            ],
            [
             0.1111111111111111,
             "#46039f"
            ],
            [
             0.2222222222222222,
             "#7201a8"
            ],
            [
             0.3333333333333333,
             "#9c179e"
            ],
            [
             0.4444444444444444,
             "#bd3786"
            ],
            [
             0.5555555555555556,
             "#d8576b"
            ],
            [
             0.6666666666666666,
             "#ed7953"
            ],
            [
             0.7777777777777778,
             "#fb9f3a"
            ],
            [
             0.8888888888888888,
             "#fdca26"
            ],
            [
             1,
             "#f0f921"
            ]
           ]
          },
          "colorway": [
           "#636efa",
           "#EF553B",
           "#00cc96",
           "#ab63fa",
           "#FFA15A",
           "#19d3f3",
           "#FF6692",
           "#B6E880",
           "#FF97FF",
           "#FECB52"
          ],
          "font": {
           "color": "#2a3f5f"
          },
          "geo": {
           "bgcolor": "white",
           "lakecolor": "white",
           "landcolor": "#E5ECF6",
           "showlakes": true,
           "showland": true,
           "subunitcolor": "white"
          },
          "hoverlabel": {
           "align": "left"
          },
          "hovermode": "closest",
          "mapbox": {
           "style": "light"
          },
          "paper_bgcolor": "white",
          "plot_bgcolor": "#E5ECF6",
          "polar": {
           "angularaxis": {
            "gridcolor": "white",
            "linecolor": "white",
            "ticks": ""
           },
           "bgcolor": "#E5ECF6",
           "radialaxis": {
            "gridcolor": "white",
            "linecolor": "white",
            "ticks": ""
           }
          },
          "scene": {
           "xaxis": {
            "backgroundcolor": "#E5ECF6",
            "gridcolor": "white",
            "gridwidth": 2,
            "linecolor": "white",
            "showbackground": true,
            "ticks": "",
            "zerolinecolor": "white"
           },
           "yaxis": {
            "backgroundcolor": "#E5ECF6",
            "gridcolor": "white",
            "gridwidth": 2,
            "linecolor": "white",
            "showbackground": true,
            "ticks": "",
            "zerolinecolor": "white"
           },
           "zaxis": {
            "backgroundcolor": "#E5ECF6",
            "gridcolor": "white",
            "gridwidth": 2,
            "linecolor": "white",
            "showbackground": true,
            "ticks": "",
            "zerolinecolor": "white"
           }
          },
          "shapedefaults": {
           "line": {
            "color": "#2a3f5f"
           }
          },
          "ternary": {
           "aaxis": {
            "gridcolor": "white",
            "linecolor": "white",
            "ticks": ""
           },
           "baxis": {
            "gridcolor": "white",
            "linecolor": "white",
            "ticks": ""
           },
           "bgcolor": "#E5ECF6",
           "caxis": {
            "gridcolor": "white",
            "linecolor": "white",
            "ticks": ""
           }
          },
          "title": {
           "x": 0.05
          },
          "xaxis": {
           "automargin": true,
           "gridcolor": "white",
           "linecolor": "white",
           "ticks": "",
           "title": {
            "standoff": 15
           },
           "zerolinecolor": "white",
           "zerolinewidth": 2
          },
          "yaxis": {
           "automargin": true,
           "gridcolor": "white",
           "linecolor": "white",
           "ticks": "",
           "title": {
            "standoff": 15
           },
           "zerolinecolor": "white",
           "zerolinewidth": 2
          }
         }
        },
        "xaxis": {
         "anchor": "y",
         "domain": [
          0,
          1
         ]
        },
        "yaxis": {
         "anchor": "x",
         "domain": [
          0,
          1
         ]
        }
       }
      }
     },
     "metadata": {},
     "output_type": "display_data"
    }
   ],
   "source": [
    "px.imshow(img)"
   ]
  },
  {
   "cell_type": "code",
   "execution_count": 40,
   "metadata": {},
   "outputs": [
    {
     "data": {
      "text/html": [
       "<div>\n",
       "<style scoped>\n",
       "    .dataframe tbody tr th:only-of-type {\n",
       "        vertical-align: middle;\n",
       "    }\n",
       "\n",
       "    .dataframe tbody tr th {\n",
       "        vertical-align: top;\n",
       "    }\n",
       "\n",
       "    .dataframe thead th {\n",
       "        text-align: right;\n",
       "    }\n",
       "</style>\n",
       "<table border=\"1\" class=\"dataframe\">\n",
       "  <thead>\n",
       "    <tr style=\"text-align: right;\">\n",
       "      <th></th>\n",
       "      <th>location</th>\n",
       "      <th>coordinates</th>\n",
       "    </tr>\n",
       "  </thead>\n",
       "  <tbody>\n",
       "    <tr>\n",
       "      <th>0</th>\n",
       "      <td>entrance3</td>\n",
       "      <td>[115, 33]</td>\n",
       "    </tr>\n",
       "    <tr>\n",
       "      <th>1</th>\n",
       "      <td>general-gate1</td>\n",
       "      <td>[64, 175]</td>\n",
       "    </tr>\n",
       "    <tr>\n",
       "      <th>2</th>\n",
       "      <td>ranger-stop2</td>\n",
       "      <td>[80, 165]</td>\n",
       "    </tr>\n",
       "    <tr>\n",
       "      <th>3</th>\n",
       "      <td>ranger-stop0</td>\n",
       "      <td>[89, 184]</td>\n",
       "    </tr>\n",
       "    <tr>\n",
       "      <th>4</th>\n",
       "      <td>general-gate2</td>\n",
       "      <td>[104, 168]</td>\n",
       "    </tr>\n",
       "    <tr>\n",
       "      <th>5</th>\n",
       "      <td>general-gate5</td>\n",
       "      <td>[124, 89]</td>\n",
       "    </tr>\n",
       "    <tr>\n",
       "      <th>6</th>\n",
       "      <td>entrance4</td>\n",
       "      <td>[140, 16]</td>\n",
       "    </tr>\n",
       "    <tr>\n",
       "      <th>7</th>\n",
       "      <td>entrance1</td>\n",
       "      <td>[17, 133]</td>\n",
       "    </tr>\n",
       "    <tr>\n",
       "      <th>8</th>\n",
       "      <td>general-gate7</td>\n",
       "      <td>[65, 56]</td>\n",
       "    </tr>\n",
       "    <tr>\n",
       "      <th>9</th>\n",
       "      <td>general-gate4</td>\n",
       "      <td>[69, 102]</td>\n",
       "    </tr>\n",
       "    <tr>\n",
       "      <th>10</th>\n",
       "      <td>entrance2</td>\n",
       "      <td>[183, 113]</td>\n",
       "    </tr>\n",
       "    <tr>\n",
       "      <th>11</th>\n",
       "      <td>camping6</td>\n",
       "      <td>[150, 23]</td>\n",
       "    </tr>\n",
       "    <tr>\n",
       "      <th>12</th>\n",
       "      <td>camping2</td>\n",
       "      <td>[44, 136]</td>\n",
       "    </tr>\n",
       "    <tr>\n",
       "      <th>13</th>\n",
       "      <td>camping3</td>\n",
       "      <td>[45, 132]</td>\n",
       "    </tr>\n",
       "    <tr>\n",
       "      <th>14</th>\n",
       "      <td>ranger-base</td>\n",
       "      <td>[128, 25]</td>\n",
       "    </tr>\n",
       "    <tr>\n",
       "      <th>15</th>\n",
       "      <td>gate8</td>\n",
       "      <td>[138, 19]</td>\n",
       "    </tr>\n",
       "    <tr>\n",
       "      <th>16</th>\n",
       "      <td>camping0</td>\n",
       "      <td>[52, 159]</td>\n",
       "    </tr>\n",
       "    <tr>\n",
       "      <th>17</th>\n",
       "      <td>gate3</td>\n",
       "      <td>[149, 140]</td>\n",
       "    </tr>\n",
       "    <tr>\n",
       "      <th>18</th>\n",
       "      <td>ranger-stop3</td>\n",
       "      <td>[148, 155]</td>\n",
       "    </tr>\n",
       "    <tr>\n",
       "      <th>19</th>\n",
       "      <td>camping8</td>\n",
       "      <td>[183, 152]</td>\n",
       "    </tr>\n",
       "    <tr>\n",
       "      <th>20</th>\n",
       "      <td>general-gate3</td>\n",
       "      <td>[186, 145]</td>\n",
       "    </tr>\n",
       "    <tr>\n",
       "      <th>21</th>\n",
       "      <td>general-gate6</td>\n",
       "      <td>[136, 63]</td>\n",
       "    </tr>\n",
       "    <tr>\n",
       "      <th>22</th>\n",
       "      <td>gate4</td>\n",
       "      <td>[164, 86]</td>\n",
       "    </tr>\n",
       "    <tr>\n",
       "      <th>23</th>\n",
       "      <td>camping7</td>\n",
       "      <td>[181, 55]</td>\n",
       "    </tr>\n",
       "    <tr>\n",
       "      <th>24</th>\n",
       "      <td>ranger-stop5</td>\n",
       "      <td>[151, 82]</td>\n",
       "    </tr>\n",
       "    <tr>\n",
       "      <th>25</th>\n",
       "      <td>gate5</td>\n",
       "      <td>[131, 54]</td>\n",
       "    </tr>\n",
       "    <tr>\n",
       "      <th>26</th>\n",
       "      <td>ranger-stop6</td>\n",
       "      <td>[123, 53]</td>\n",
       "    </tr>\n",
       "    <tr>\n",
       "      <th>27</th>\n",
       "      <td>entrance0</td>\n",
       "      <td>[62, 187]</td>\n",
       "    </tr>\n",
       "    <tr>\n",
       "      <th>28</th>\n",
       "      <td>camping5</td>\n",
       "      <td>[20, 79]</td>\n",
       "    </tr>\n",
       "    <tr>\n",
       "      <th>29</th>\n",
       "      <td>ranger-stop4</td>\n",
       "      <td>[18, 105]</td>\n",
       "    </tr>\n",
       "    <tr>\n",
       "      <th>30</th>\n",
       "      <td>gate6</td>\n",
       "      <td>[116, 49]</td>\n",
       "    </tr>\n",
       "    <tr>\n",
       "      <th>31</th>\n",
       "      <td>gate7</td>\n",
       "      <td>[97, 40]</td>\n",
       "    </tr>\n",
       "    <tr>\n",
       "      <th>32</th>\n",
       "      <td>ranger-stop7</td>\n",
       "      <td>[100, 48]</td>\n",
       "    </tr>\n",
       "    <tr>\n",
       "      <th>33</th>\n",
       "      <td>camping4</td>\n",
       "      <td>[48, 111]</td>\n",
       "    </tr>\n",
       "    <tr>\n",
       "      <th>34</th>\n",
       "      <td>gate2</td>\n",
       "      <td>[24, 146]</td>\n",
       "    </tr>\n",
       "    <tr>\n",
       "      <th>35</th>\n",
       "      <td>ranger-stop1</td>\n",
       "      <td>[19, 176]</td>\n",
       "    </tr>\n",
       "    <tr>\n",
       "      <th>36</th>\n",
       "      <td>general-gate0</td>\n",
       "      <td>[110, 191]</td>\n",
       "    </tr>\n",
       "    <tr>\n",
       "      <th>37</th>\n",
       "      <td>camping1</td>\n",
       "      <td>[129, 150]</td>\n",
       "    </tr>\n",
       "    <tr>\n",
       "      <th>38</th>\n",
       "      <td>gate1</td>\n",
       "      <td>[58, 156]</td>\n",
       "    </tr>\n",
       "    <tr>\n",
       "      <th>39</th>\n",
       "      <td>gate0</td>\n",
       "      <td>[63, 167]</td>\n",
       "    </tr>\n",
       "  </tbody>\n",
       "</table>\n",
       "</div>"
      ],
      "text/plain": [
       "         location coordinates\n",
       "0       entrance3   [115, 33]\n",
       "1   general-gate1   [64, 175]\n",
       "2    ranger-stop2   [80, 165]\n",
       "3    ranger-stop0   [89, 184]\n",
       "4   general-gate2  [104, 168]\n",
       "5   general-gate5   [124, 89]\n",
       "6       entrance4   [140, 16]\n",
       "7       entrance1   [17, 133]\n",
       "8   general-gate7    [65, 56]\n",
       "9   general-gate4   [69, 102]\n",
       "10      entrance2  [183, 113]\n",
       "11       camping6   [150, 23]\n",
       "12       camping2   [44, 136]\n",
       "13       camping3   [45, 132]\n",
       "14    ranger-base   [128, 25]\n",
       "15          gate8   [138, 19]\n",
       "16       camping0   [52, 159]\n",
       "17          gate3  [149, 140]\n",
       "18   ranger-stop3  [148, 155]\n",
       "19       camping8  [183, 152]\n",
       "20  general-gate3  [186, 145]\n",
       "21  general-gate6   [136, 63]\n",
       "22          gate4   [164, 86]\n",
       "23       camping7   [181, 55]\n",
       "24   ranger-stop5   [151, 82]\n",
       "25          gate5   [131, 54]\n",
       "26   ranger-stop6   [123, 53]\n",
       "27      entrance0   [62, 187]\n",
       "28       camping5    [20, 79]\n",
       "29   ranger-stop4   [18, 105]\n",
       "30          gate6   [116, 49]\n",
       "31          gate7    [97, 40]\n",
       "32   ranger-stop7   [100, 48]\n",
       "33       camping4   [48, 111]\n",
       "34          gate2   [24, 146]\n",
       "35   ranger-stop1   [19, 176]\n",
       "36  general-gate0  [110, 191]\n",
       "37       camping1  [129, 150]\n",
       "38          gate1   [58, 156]\n",
       "39          gate0   [63, 167]"
      ]
     },
     "execution_count": 40,
     "metadata": {},
     "output_type": "execute_result"
    }
   ],
   "source": [
    "locations"
   ]
  },
  {
   "cell_type": "code",
   "execution_count": 41,
   "metadata": {},
   "outputs": [
    {
     "data": {
      "text/plain": [
       "array([-1.48427207e+00, -5.56521416e-01, -2.24259512e-01,  1.00721577e-01,\n",
       "        9.04149562e-02,  3.96565470e-01, -1.52128059e+00, -1.34959336e+00,\n",
       "       -9.77255956e-02, -3.13634902e-01, -1.38376189e+00, -7.51369135e-02,\n",
       "       -4.08299289e-02, -1.21783123e-01,  4.10708678e+00,  4.10708678e+00,\n",
       "       -9.64999379e-02,  4.21451575e-01,  4.21451575e-01, -4.58374113e-01,\n",
       "        2.01844998e-01, -2.73384687e-01,  6.24112521e-01, -2.72555327e-01,\n",
       "        6.24112521e-01,  6.34038058e-01,  6.34038058e-01, -1.42934108e+00,\n",
       "        4.02087492e-01,  1.40699120e+00,  2.54097106e-01,  3.83027752e-01,\n",
       "        3.83027752e-01, -1.16425713e-01, -2.50242331e-01, -2.55638244e-01,\n",
       "       -1.23846570e-03, -1.74595634e-02,  3.82792822e-01,  3.82792822e-01])"
      ]
     },
     "execution_count": 41,
     "metadata": {},
     "output_type": "execute_result"
    }
   ],
   "source": [
    "coefficients"
   ]
  },
  {
   "cell_type": "code",
   "execution_count": 42,
   "metadata": {},
   "outputs": [
    {
     "data": {
      "application/vnd.plotly.v1+json": {
       "config": {
        "plotlyServerURL": "https://plot.ly"
       },
       "data": [
        {
         "hovertemplate": "x=%{x}<br>y=%{y}<br>size=%{marker.size}<extra></extra>",
         "legendgroup": "",
         "marker": {
          "color": "#636efa",
          "size": [
           1.4842720694941627,
           0.5565214162321511,
           0.2242595121556373,
           0.10072157655759169,
           0.09041495616014883,
           0.39656546959360767,
           1.5212805926071424,
           1.3495933640942472,
           0.0977255956221636,
           0.3136349024368225,
           1.3837618877120408,
           0.07513691345561158,
           0.040829928855714945,
           0.1217831232669791,
           4.107086777887163,
           4.107086777887162,
           0.09649993789282128,
           0.42145157543261424,
           0.42145157543261424,
           0.45837411290541835,
           0.2018449984143736,
           0.2733846871394397,
           0.6241125213724074,
           0.2725553265101147,
           0.6241125213724074,
           0.6340380584030195,
           0.6340380584030195,
           1.4293410754823588,
           0.40208749150258877,
           1.4069911977496226,
           0.25409710616801556,
           0.3830277524246369,
           0.3830277524246369,
           0.1164257131085753,
           0.2502423314601814,
           0.25563824442744976,
           0.0012384656971725341,
           0.017459563422271434,
           0.38279282233705497,
           0.38279282233705497
          ],
          "sizemode": "area",
          "sizeref": 0.010267716944717908,
          "symbol": "circle"
         },
         "mode": "markers",
         "name": "",
         "orientation": "v",
         "showlegend": false,
         "type": "scatter",
         "x": [
          345,
          192,
          240,
          267,
          312,
          372,
          420,
          51,
          195,
          207,
          549,
          450,
          132,
          135,
          384,
          414,
          156,
          447,
          444,
          549,
          558,
          408,
          492,
          543,
          453,
          393,
          369,
          186,
          60,
          54,
          348,
          291,
          300,
          144,
          72,
          57,
          330,
          387,
          174,
          189
         ],
         "xaxis": "x",
         "y": [
          99,
          525,
          495,
          552,
          504,
          267,
          48,
          399,
          168,
          306,
          339,
          69,
          408,
          396,
          75,
          57,
          477,
          420,
          465,
          456,
          435,
          189,
          258,
          165,
          246,
          162,
          159,
          561,
          237,
          315,
          147,
          120,
          144,
          333,
          438,
          528,
          573,
          450,
          468,
          501
         ],
         "yaxis": "y"
        }
       ],
       "layout": {
        "height": 600,
        "images": [
         {
          "layer": "below",
          "opacity": 1,
          "sizex": 600,
          "sizey": 600,
          "sizing": "stretch",
          "source": "data:image/png;base64,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",
          "x": 0,
          "xref": "x",
          "y": 600,
          "yref": "y"
         }
        ],
        "legend": {
         "itemsizing": "constant",
         "tracegroupgap": 0
        },
        "margin": {
         "b": 0,
         "l": 0,
         "r": 0,
         "t": 0
        },
        "template": {
         "data": {
          "bar": [
           {
            "error_x": {
             "color": "#2a3f5f"
            },
            "error_y": {
             "color": "#2a3f5f"
            },
            "marker": {
             "line": {
              "color": "#E5ECF6",
              "width": 0.5
             },
             "pattern": {
              "fillmode": "overlay",
              "size": 10,
              "solidity": 0.2
             }
            },
            "type": "bar"
           }
          ],
          "barpolar": [
           {
            "marker": {
             "line": {
              "color": "#E5ECF6",
              "width": 0.5
             },
             "pattern": {
              "fillmode": "overlay",
              "size": 10,
              "solidity": 0.2
             }
            },
            "type": "barpolar"
           }
          ],
          "carpet": [
           {
            "aaxis": {
             "endlinecolor": "#2a3f5f",
             "gridcolor": "white",
             "linecolor": "white",
             "minorgridcolor": "white",
             "startlinecolor": "#2a3f5f"
            },
            "baxis": {
             "endlinecolor": "#2a3f5f",
             "gridcolor": "white",
             "linecolor": "white",
             "minorgridcolor": "white",
             "startlinecolor": "#2a3f5f"
            },
            "type": "carpet"
           }
          ],
          "choropleth": [
           {
            "colorbar": {
             "outlinewidth": 0,
             "ticks": ""
            },
            "type": "choropleth"
           }
          ],
          "contour": [
           {
            "colorbar": {
             "outlinewidth": 0,
             "ticks": ""
            },
            "colorscale": [
             [
              0,
              "#0d0887"
             ],
             [
              0.1111111111111111,
              "#46039f"
             ],
             [
              0.2222222222222222,
              "#7201a8"
             ],
             [
              0.3333333333333333,
              "#9c179e"
             ],
             [
              0.4444444444444444,
              "#bd3786"
             ],
             [
              0.5555555555555556,
              "#d8576b"
             ],
             [
              0.6666666666666666,
              "#ed7953"
             ],
             [
              0.7777777777777778,
              "#fb9f3a"
             ],
             [
              0.8888888888888888,
              "#fdca26"
             ],
             [
              1,
              "#f0f921"
             ]
            ],
            "type": "contour"
           }
          ],
          "contourcarpet": [
           {
            "colorbar": {
             "outlinewidth": 0,
             "ticks": ""
            },
            "type": "contourcarpet"
           }
          ],
          "heatmap": [
           {
            "colorbar": {
             "outlinewidth": 0,
             "ticks": ""
            },
            "colorscale": [
             [
              0,
              "#0d0887"
             ],
             [
              0.1111111111111111,
              "#46039f"
             ],
             [
              0.2222222222222222,
              "#7201a8"
             ],
             [
              0.3333333333333333,
              "#9c179e"
             ],
             [
              0.4444444444444444,
              "#bd3786"
             ],
             [
              0.5555555555555556,
              "#d8576b"
             ],
             [
              0.6666666666666666,
              "#ed7953"
             ],
             [
              0.7777777777777778,
              "#fb9f3a"
             ],
             [
              0.8888888888888888,
              "#fdca26"
             ],
             [
              1,
              "#f0f921"
             ]
            ],
            "type": "heatmap"
           }
          ],
          "heatmapgl": [
           {
            "colorbar": {
             "outlinewidth": 0,
             "ticks": ""
            },
            "colorscale": [
             [
              0,
              "#0d0887"
             ],
             [
              0.1111111111111111,
              "#46039f"
             ],
             [
              0.2222222222222222,
              "#7201a8"
             ],
             [
              0.3333333333333333,
              "#9c179e"
             ],
             [
              0.4444444444444444,
              "#bd3786"
             ],
             [
              0.5555555555555556,
              "#d8576b"
             ],
             [
              0.6666666666666666,
              "#ed7953"
             ],
             [
              0.7777777777777778,
              "#fb9f3a"
             ],
             [
              0.8888888888888888,
              "#fdca26"
             ],
             [
              1,
              "#f0f921"
             ]
            ],
            "type": "heatmapgl"
           }
          ],
          "histogram": [
           {
            "marker": {
             "pattern": {
              "fillmode": "overlay",
              "size": 10,
              "solidity": 0.2
             }
            },
            "type": "histogram"
           }
          ],
          "histogram2d": [
           {
            "colorbar": {
             "outlinewidth": 0,
             "ticks": ""
            },
            "colorscale": [
             [
              0,
              "#0d0887"
             ],
             [
              0.1111111111111111,
              "#46039f"
             ],
             [
              0.2222222222222222,
              "#7201a8"
             ],
             [
              0.3333333333333333,
              "#9c179e"
             ],
             [
              0.4444444444444444,
              "#bd3786"
             ],
             [
              0.5555555555555556,
              "#d8576b"
             ],
             [
              0.6666666666666666,
              "#ed7953"
             ],
             [
              0.7777777777777778,
              "#fb9f3a"
             ],
             [
              0.8888888888888888,
              "#fdca26"
             ],
             [
              1,
              "#f0f921"
             ]
            ],
            "type": "histogram2d"
           }
          ],
          "histogram2dcontour": [
           {
            "colorbar": {
             "outlinewidth": 0,
             "ticks": ""
            },
            "colorscale": [
             [
              0,
              "#0d0887"
             ],
             [
              0.1111111111111111,
              "#46039f"
             ],
             [
              0.2222222222222222,
              "#7201a8"
             ],
             [
              0.3333333333333333,
              "#9c179e"
             ],
             [
              0.4444444444444444,
              "#bd3786"
             ],
             [
              0.5555555555555556,
              "#d8576b"
             ],
             [
              0.6666666666666666,
              "#ed7953"
             ],
             [
              0.7777777777777778,
              "#fb9f3a"
             ],
             [
              0.8888888888888888,
              "#fdca26"
             ],
             [
              1,
              "#f0f921"
             ]
            ],
            "type": "histogram2dcontour"
           }
          ],
          "mesh3d": [
           {
            "colorbar": {
             "outlinewidth": 0,
             "ticks": ""
            },
            "type": "mesh3d"
           }
          ],
          "parcoords": [
           {
            "line": {
             "colorbar": {
              "outlinewidth": 0,
              "ticks": ""
             }
            },
            "type": "parcoords"
           }
          ],
          "pie": [
           {
            "automargin": true,
            "type": "pie"
           }
          ],
          "scatter": [
           {
            "fillpattern": {
             "fillmode": "overlay",
             "size": 10,
             "solidity": 0.2
            },
            "type": "scatter"
           }
          ],
          "scatter3d": [
           {
            "line": {
             "colorbar": {
              "outlinewidth": 0,
              "ticks": ""
             }
            },
            "marker": {
             "colorbar": {
              "outlinewidth": 0,
              "ticks": ""
             }
            },
            "type": "scatter3d"
           }
          ],
          "scattercarpet": [
           {
            "marker": {
             "colorbar": {
              "outlinewidth": 0,
              "ticks": ""
             }
            },
            "type": "scattercarpet"
           }
          ],
          "scattergeo": [
           {
            "marker": {
             "colorbar": {
              "outlinewidth": 0,
              "ticks": ""
             }
            },
            "type": "scattergeo"
           }
          ],
          "scattergl": [
           {
            "marker": {
             "colorbar": {
              "outlinewidth": 0,
              "ticks": ""
             }
            },
            "type": "scattergl"
           }
          ],
          "scattermapbox": [
           {
            "marker": {
             "colorbar": {
              "outlinewidth": 0,
              "ticks": ""
             }
            },
            "type": "scattermapbox"
           }
          ],
          "scatterpolar": [
           {
            "marker": {
             "colorbar": {
              "outlinewidth": 0,
              "ticks": ""
             }
            },
            "type": "scatterpolar"
           }
          ],
          "scatterpolargl": [
           {
            "marker": {
             "colorbar": {
              "outlinewidth": 0,
              "ticks": ""
             }
            },
            "type": "scatterpolargl"
           }
          ],
          "scatterternary": [
           {
            "marker": {
             "colorbar": {
              "outlinewidth": 0,
              "ticks": ""
             }
            },
            "type": "scatterternary"
           }
          ],
          "surface": [
           {
            "colorbar": {
             "outlinewidth": 0,
             "ticks": ""
            },
            "colorscale": [
             [
              0,
              "#0d0887"
             ],
             [
              0.1111111111111111,
              "#46039f"
             ],
             [
              0.2222222222222222,
              "#7201a8"
             ],
             [
              0.3333333333333333,
              "#9c179e"
             ],
             [
              0.4444444444444444,
              "#bd3786"
             ],
             [
              0.5555555555555556,
              "#d8576b"
             ],
             [
              0.6666666666666666,
              "#ed7953"
             ],
             [
              0.7777777777777778,
              "#fb9f3a"
             ],
             [
              0.8888888888888888,
              "#fdca26"
             ],
             [
              1,
              "#f0f921"
             ]
            ],
            "type": "surface"
           }
          ],
          "table": [
           {
            "cells": {
             "fill": {
              "color": "#EBF0F8"
             },
             "line": {
              "color": "white"
             }
            },
            "header": {
             "fill": {
              "color": "#C8D4E3"
             },
             "line": {
              "color": "white"
             }
            },
            "type": "table"
           }
          ]
         },
         "layout": {
          "annotationdefaults": {
           "arrowcolor": "#2a3f5f",
           "arrowhead": 0,
           "arrowwidth": 1
          },
          "autotypenumbers": "strict",
          "coloraxis": {
           "colorbar": {
            "outlinewidth": 0,
            "ticks": ""
           }
          },
          "colorscale": {
           "diverging": [
            [
             0,
             "#8e0152"
            ],
            [
             0.1,
             "#c51b7d"
            ],
            [
             0.2,
             "#de77ae"
            ],
            [
             0.3,
             "#f1b6da"
            ],
            [
             0.4,
             "#fde0ef"
            ],
            [
             0.5,
             "#f7f7f7"
            ],
            [
             0.6,
             "#e6f5d0"
            ],
            [
             0.7,
             "#b8e186"
            ],
            [
             0.8,
             "#7fbc41"
            ],
            [
             0.9,
             "#4d9221"
            ],
            [
             1,
             "#276419"
            ]
           ],
           "sequential": [
            [
             0,
             "#0d0887"
            ],
            [
             0.1111111111111111,
             "#46039f"
            ],
            [
             0.2222222222222222,
             "#7201a8"
            ],
            [
             0.3333333333333333,
             "#9c179e"
            ],
            [
             0.4444444444444444,
             "#bd3786"
            ],
            [
             0.5555555555555556,
             "#d8576b"
            ],
            [
             0.6666666666666666,
             "#ed7953"
            ],
            [
             0.7777777777777778,
             "#fb9f3a"
            ],
            [
             0.8888888888888888,
             "#fdca26"
            ],
            [
             1,
             "#f0f921"
            ]
           ],
           "sequentialminus": [
            [
             0,
             "#0d0887"
            ],
            [
             0.1111111111111111,
             "#46039f"
            ],
            [
             0.2222222222222222,
             "#7201a8"
            ],
            [
             0.3333333333333333,
             "#9c179e"
            ],
            [
             0.4444444444444444,
             "#bd3786"
            ],
            [
             0.5555555555555556,
             "#d8576b"
            ],
            [
             0.6666666666666666,
             "#ed7953"
            ],
            [
             0.7777777777777778,
             "#fb9f3a"
            ],
            [
             0.8888888888888888,
             "#fdca26"
            ],
            [
             1,
             "#f0f921"
            ]
           ]
          },
          "colorway": [
           "#636efa",
           "#EF553B",
           "#00cc96",
           "#ab63fa",
           "#FFA15A",
           "#19d3f3",
           "#FF6692",
           "#B6E880",
           "#FF97FF",
           "#FECB52"
          ],
          "font": {
           "color": "#2a3f5f"
          },
          "geo": {
           "bgcolor": "white",
           "lakecolor": "white",
           "landcolor": "#E5ECF6",
           "showlakes": true,
           "showland": true,
           "subunitcolor": "white"
          },
          "hoverlabel": {
           "align": "left"
          },
          "hovermode": "closest",
          "mapbox": {
           "style": "light"
          },
          "paper_bgcolor": "white",
          "plot_bgcolor": "#E5ECF6",
          "polar": {
           "angularaxis": {
            "gridcolor": "white",
            "linecolor": "white",
            "ticks": ""
           },
           "bgcolor": "#E5ECF6",
           "radialaxis": {
            "gridcolor": "white",
            "linecolor": "white",
            "ticks": ""
           }
          },
          "scene": {
           "xaxis": {
            "backgroundcolor": "#E5ECF6",
            "gridcolor": "white",
            "gridwidth": 2,
            "linecolor": "white",
            "showbackground": true,
            "ticks": "",
            "zerolinecolor": "white"
           },
           "yaxis": {
            "backgroundcolor": "#E5ECF6",
            "gridcolor": "white",
            "gridwidth": 2,
            "linecolor": "white",
            "showbackground": true,
            "ticks": "",
            "zerolinecolor": "white"
           },
           "zaxis": {
            "backgroundcolor": "#E5ECF6",
            "gridcolor": "white",
            "gridwidth": 2,
            "linecolor": "white",
            "showbackground": true,
            "ticks": "",
            "zerolinecolor": "white"
           }
          },
          "shapedefaults": {
           "line": {
            "color": "#2a3f5f"
           }
          },
          "ternary": {
           "aaxis": {
            "gridcolor": "white",
            "linecolor": "white",
            "ticks": ""
           },
           "baxis": {
            "gridcolor": "white",
            "linecolor": "white",
            "ticks": ""
           },
           "bgcolor": "#E5ECF6",
           "caxis": {
            "gridcolor": "white",
            "linecolor": "white",
            "ticks": ""
           }
          },
          "title": {
           "x": 0.05
          },
          "xaxis": {
           "automargin": true,
           "gridcolor": "white",
           "linecolor": "white",
           "ticks": "",
           "title": {
            "standoff": 15
           },
           "zerolinecolor": "white",
           "zerolinewidth": 2
          },
          "yaxis": {
           "automargin": true,
           "gridcolor": "white",
           "linecolor": "white",
           "ticks": "",
           "title": {
            "standoff": 15
           },
           "zerolinecolor": "white",
           "zerolinewidth": 2
          }
         }
        },
        "width": 600,
        "xaxis": {
         "anchor": "y",
         "domain": [
          0,
          1
         ],
         "title": {
          "text": "x"
         },
         "visible": false
        },
        "yaxis": {
         "anchor": "x",
         "domain": [
          0,
          1
         ],
         "title": {
          "text": "y"
         },
         "visible": false
        }
       }
      }
     },
     "metadata": {},
     "output_type": "display_data"
    }
   ],
   "source": [
    "fig.show()"
   ]
  },
  {
   "cell_type": "code",
   "execution_count": null,
   "metadata": {},
   "outputs": [],
   "source": []
  },
  {
   "cell_type": "code",
   "execution_count": null,
   "metadata": {},
   "outputs": [],
   "source": []
  }
 ],
 "metadata": {
  "kernelspec": {
   "display_name": ".venv",
   "language": "python",
   "name": "python3"
  },
  "language_info": {
   "codemirror_mode": {
    "name": "ipython",
    "version": 3
   },
   "file_extension": ".py",
   "mimetype": "text/x-python",
   "name": "python",
   "nbconvert_exporter": "python",
   "pygments_lexer": "ipython3",
   "version": "3.10.10"
  },
  "orig_nbformat": 4
 },
 "nbformat": 4,
 "nbformat_minor": 2
}
